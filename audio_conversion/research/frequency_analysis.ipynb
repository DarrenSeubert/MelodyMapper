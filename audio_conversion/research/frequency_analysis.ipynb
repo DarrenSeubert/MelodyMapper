{
 "cells": [
  {
   "cell_type": "code",
   "execution_count": null,
   "id": "ce9fae24-ab9f-4337-8652-7ea028596b51",
   "metadata": {},
   "outputs": [],
   "source": [
    "################################################################################\n",
    "# Filename: frequency_analysis.py\n",
    "# Purpose:  Visualize the frequencies of audio file and convert into MIDI file.\n",
    "# Author:   Roshni Venkat & Livia Chandra\n",
    "#\n",
    "# Description:\n",
    "# This file is used to visualize the frequencies of audio file in frequency\n",
    "# graph which help converting frequencies into MIDI file.\n",
    "#\n",
    "# Usage (Optional):\n",
    "# [Instructions or examples demonstrating how to use the code in this file.\n",
    "# Include any dependencies or prerequisites required for proper usage.]\n",
    "#\n",
    "# Notes:\n",
    "# [Any additional notes, considerations, or important information\n",
    "# about the file that may be relevant to developers or users.]\n",
    "#\n",
    "###############################################################################"
   ]
  },
  {
   "cell_type": "code",
   "execution_count": null,
   "id": "12a3d487-45f7-4d74-afbd-d47c1a233a39",
   "metadata": {},
   "outputs": [],
   "source": [
    "import numpy as np\n",
    "import scipy.io.wavfile as wav\n",
    "import librosa as lb\n",
    "import matplotlib.pyplot as plt \n",
    "from mido import MidiFile, MidiTrack, Message"
   ]
  },
  {
   "cell_type": "code",
   "execution_count": null,
   "id": "5062ee81-301f-4823-96b6-f40de2f46bcb",
   "metadata": {},
   "outputs": [],
   "source": [
    "# Read the WAV file using spicy wavfile library\n",
    "sample_rate1, raw_audio1 = wav.read('sample1.wav')\n",
    "sample_rate1"
   ]
  },
  {
   "cell_type": "code",
   "execution_count": null,
   "id": "839b095c-da2c-4bf5-b388-cacd4a3ab079",
   "metadata": {},
   "outputs": [],
   "source": [
    "raw_audio1"
   ]
  },
  {
   "cell_type": "code",
   "execution_count": null,
   "id": "197f804a-db23-4362-b5e1-83685eae2e9a",
   "metadata": {},
   "outputs": [],
   "source": [
    "# Compute the Fourier Transform\n",
    "frequency1 = np.fft.fftfreq(len(raw_audio1)) * sample_rate1\n",
    "spectrum1 = np.fft.fft(raw_audio1)  "
   ]
  },
  {
   "cell_type": "code",
   "execution_count": null,
   "id": "2c268d84-e94d-451f-9264-058ed0bc4a7e",
   "metadata": {},
   "outputs": [],
   "source": [
    "# Plot the frequencies\n",
    "plt.figure(figsize=(10, 4))\n",
    "plt.plot(frequency1, np.abs(spectrum1))\n",
    "plt.title('Frequency Spectrum')\n",
    "plt.xlabel('Frequency (Hz)')\n",
    "plt.ylabel('Magnitude')\n",
    "plt.grid(True)\n",
    "plt.show()"
   ]
  },
  {
   "cell_type": "code",
   "execution_count": null,
   "id": "1fed8d2e-e792-48f9-9ed3-4c5a36238a2b",
   "metadata": {},
   "outputs": [],
   "source": [
    "# Use the librosa function to convert frequencies into midi note\n",
    "converted_frequency1 = []\n",
    "for frequency in frequency1:\n",
    "    if frequency != 0:\n",
    "        converted_frequency1.append(lb.hz_to_midi(frequency))\n",
    "    else:\n",
    "        converted_frequency1.append(0)"
   ]
  },
  {
   "cell_type": "code",
   "execution_count": null,
   "id": "03b800be-7a24-4005-bc3f-7cce8a78cbf6",
   "metadata": {},
   "outputs": [],
   "source": [
    "# Plot the frequency against the MIDI note\n",
    "plt.figure(figsize=(12, 6))\n",
    "plt.plot(frequency1, converted_frequency1, color='blue')\n",
    "plt.title('Frequency to MIDI')\n",
    "plt.xlabel('Frequency (Hz)')\n",
    "plt.ylabel('MIDI Notes')\n",
    "plt.grid(True)\n",
    "plt.xlim(0, 10000)  # Limit x-axis to focus on lower frequencies\n",
    "plt.ylim(0, 127)    # Limit y-axis to MIDI note range\n",
    "plt.xticks(np.arange(0, 10001, 500))  # Set x-axis ticks every 500 Hz\n",
    "plt.yticks(np.arange(0, 128, 12))     # Set y-axis ticks every octave\n",
    "plt.show()"
   ]
  },
  {
   "cell_type": "code",
   "execution_count": null,
   "id": "5954a76a-af0e-407a-abd5-fb4042e986fb",
   "metadata": {},
   "outputs": [],
   "source": [
    "# Test output by creating a new MIDI file\n",
    "mid = MidiFile()\n",
    "\n",
    "# Add a track to the MIDI file\n",
    "track = MidiTrack()\n",
    "mid.tracks.append(track)\n",
    "\n",
    "# Iterate over the converted frequencies and add note on/off messages to the track\n",
    "for midi_note in converted_frequency1:\n",
    "    if 0 <= midi_note <= 127:  # Skip MIDI notes with value 0\n",
    "        midi_note = int(np.abs(midi_note))\n",
    "        track.append(Message('note_on', note = midi_note, velocity = 64, time=0))  # Note on message\n",
    "        track.append(Message('note_off', note = midi_note, velocity = 0, time=480))  # Note off message\n",
    "\n",
    "# Save the MIDI file\n",
    "mid.save('sample1_wavfile.mid')"
   ]
  },
  {
   "cell_type": "code",
   "execution_count": null,
   "id": "6b4ef361-7352-401e-909b-541339528db3",
   "metadata": {},
   "outputs": [],
   "source": [
    "# Read the WAV file using librosa library\n",
    "raw_audio2, sample_rate2 = lb.load('sample1.wav')\n",
    "raw_audio2"
   ]
  },
  {
   "cell_type": "code",
   "execution_count": null,
   "id": "77b203ac-645e-4aba-b197-1fb133adf4d5",
   "metadata": {},
   "outputs": [],
   "source": [
    "sample_rate2"
   ]
  },
  {
   "cell_type": "code",
   "execution_count": null,
   "id": "9ad8e026-ec07-4965-bba2-e74e3ecdeb58",
   "metadata": {},
   "outputs": [],
   "source": [
    "frequency2 = np.fft.fftfreq(len(raw_audio2)) * sample_rate2\n",
    "spectrum2 = np.fft.fft(raw_audio2)"
   ]
  },
  {
   "cell_type": "code",
   "execution_count": null,
   "id": "383304ed-2d7a-4d3b-a2b8-e6895edcf77c",
   "metadata": {},
   "outputs": [],
   "source": [
    "# Plot the frequencies using librosa library\n",
    "plt.figure(figsize=(10, 4))\n",
    "plt.plot(frequency2, np.abs(spectrum2))\n",
    "plt.title('Frequency Spectrum')\n",
    "plt.xlabel('Frequency (Hz)')\n",
    "plt.ylabel('Magnitude')\n",
    "plt.grid(True)\n",
    "plt.show()"
   ]
  },
  {
   "cell_type": "code",
   "execution_count": null,
   "id": "11442498-8470-47ff-9fcd-14c886d662f2",
   "metadata": {},
   "outputs": [],
   "source": [
    "# Use the librosa function to convert frequencies into midi note\n",
    "converted_frequency2 = []\n",
    "for frequency in frequency2:\n",
    "    if frequency != 0:\n",
    "        converted_frequency2.append(lb.hz_to_midi(frequency))\n",
    "    else:\n",
    "        converted_frequency2.append(0)"
   ]
  },
  {
   "cell_type": "code",
   "execution_count": null,
   "id": "6561b76c-f1b3-4cb4-95c5-ccbfb014efbe",
   "metadata": {},
   "outputs": [],
   "source": [
    "# Plot the frequency against the MIDI note\n",
    "plt.figure(figsize=(12, 6))\n",
    "plt.plot(frequency2, converted_frequency2, color='blue')\n",
    "plt.title('Frequency to MIDI')\n",
    "plt.xlabel('Frequency (Hz)')\n",
    "plt.ylabel('MIDI Notes')\n",
    "plt.grid(True)\n",
    "plt.xlim(0, 10000)  # Limit x-axis to focus on lower frequencies\n",
    "plt.ylim(0, 127)    # Limit y-axis to MIDI note range\n",
    "plt.xticks(np.arange(0, 10001, 500))  # Set x-axis ticks every 500 Hz\n",
    "plt.yticks(np.arange(0, 128, 12))     # Set y-axis ticks every octave\n",
    "plt.show()"
   ]
  },
  {
   "cell_type": "code",
   "execution_count": null,
   "id": "8c134460-7777-482b-b7a7-918481306951",
   "metadata": {},
   "outputs": [],
   "source": [
    "# Test output by creating a new MIDI file\n",
    "mid2 = MidiFile()\n",
    "\n",
    "# Add a track to the MIDI file\n",
    "track2 = MidiTrack()\n",
    "mid2.tracks.append(track2)\n",
    "\n",
    "# Iterate over the converted frequencies and add note on/off messages to the track\n",
    "for midi_note in converted_frequency2:\n",
    "    if 0 <= midi_note <= 127:  # Skip MIDI notes with value 0\n",
    "        midi_note = int(np.abs(midi_note))\n",
    "        track.append(Message('note_on', note = midi_note, velocity = 64, time=0))  # Note on message\n",
    "        track.append(Message('note_off', note = midi_note, velocity = 0, time=480))  # Note off message\n",
    "\n",
    "# Save the MIDI file\n",
    "mid.save('sample1_librosa.mid')"
   ]
  }
 ],
 "metadata": {
  "kernelspec": {
   "display_name": "Python 3 (ipykernel)",
   "language": "python",
   "name": "python3"
  },
  "language_info": {
   "codemirror_mode": {
    "name": "ipython",
    "version": 3
   },
   "file_extension": ".py",
   "mimetype": "text/x-python",
   "name": "python",
   "nbconvert_exporter": "python",
   "pygments_lexer": "ipython3",
   "version": "3.10.12"
  }
 },
 "nbformat": 4,
 "nbformat_minor": 5
}
