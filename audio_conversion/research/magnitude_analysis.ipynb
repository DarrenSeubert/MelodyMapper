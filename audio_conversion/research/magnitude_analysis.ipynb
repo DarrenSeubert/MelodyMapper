{
 "cells": [
  {
   "cell_type": "code",
   "execution_count": null,
   "id": "e14a0df1-95f8-4d8e-93c1-6ae71a0d6df3",
   "metadata": {},
   "outputs": [],
   "source": [
    "################################################################################\n",
    "# Filename: magnitude_analysis.ipynb\n",
    "# Purpose:  Visualize the magnitude of the frequency analysis.\n",
    "# Author:   Livia Chandra & Roshni Venkat\n",
    "#\n",
    "# Description:\n",
    "# This file is used to create graph to visualize the magnitude of the frequency \n",
    "# from conversion of wav file to MIDI file. \n",
    "#\n",
    "# Usage (Optional):\n",
    "# [Instructions or examples demonstrating how to use the code in this file.\n",
    "# Include any dependencies or prerequisites required for proper usage.]\n",
    "#\n",
    "# Notes:\n",
    "# [Any additional notes, considerations, or important information\n",
    "# about the file that may be relevant to developers or users.]\n",
    "#\n",
    "###############################################################################"
   ]
  },
  {
   "cell_type": "code",
   "execution_count": null,
   "id": "0b4c4c53-de7f-4f9c-ac99-6f34a167e5dd",
   "metadata": {},
   "outputs": [],
   "source": [
    "import numpy as np\n",
    "import scipy.io.wavfile as wav\n",
    "import librosa as lb\n",
    "import matplotlib.pyplot as plt "
   ]
  },
  {
   "cell_type": "code",
   "execution_count": null,
   "id": "b3be47da-61ca-4520-8624-93aaeb219f97",
   "metadata": {},
   "outputs": [],
   "source": [
    "# Obtain audio data of audio file using librosa\n",
    "raw_audio, _ = lb.load('sample1.wav')\n",
    "raw_audio"
   ]
  },
  {
   "cell_type": "code",
   "execution_count": null,
   "id": "45de89a6-df86-40c7-97e4-db662c419536",
   "metadata": {},
   "outputs": [],
   "source": [
    "# Use short-time fourier transform to analyze frequency of audio file\n",
    "audio_stft = lb.stft(raw_audio)\n",
    "audio_stft"
   ]
  },
  {
   "cell_type": "code",
   "execution_count": null,
   "id": "94f2a056-ddb0-4559-a955-7f7eca0d0fb2",
   "metadata": {},
   "outputs": [],
   "source": [
    "# Obtain the magnitude of the frequency\n",
    "magnitude_stft, _ = lb.magphase(audio_stft)\n",
    "magnitude_stft"
   ]
  },
  {
   "cell_type": "code",
   "execution_count": null,
   "id": "a5409996-38d5-4679-9082-ad28417e4073",
   "metadata": {},
   "outputs": [],
   "source": [
    "# Convert magnitude into decibles\n",
    "db_stft = lb.amplitude_to_db(magnitude_stft)\n",
    "db_stft"
   ]
  },
  {
   "cell_type": "code",
   "execution_count": null,
   "id": "cce524bc-c7a9-45c8-b4d5-3251e431e7db",
   "metadata": {},
   "outputs": [],
   "source": [
    "# Visualize the magnitude of the frequencies\n",
    "plt.figure(figsize=(10, 6))\n",
    "plt.imshow(np.abs(db_stft), aspect='auto', origin='lower', cmap='viridis')\n",
    "plt.colorbar(format='%+2.0f dB')\n",
    "plt.title('Magnitude Spectrum of STFT')\n",
    "plt.xlabel('Time')\n",
    "plt.ylabel('Frequency')\n",
    "plt.tight_layout()\n",
    "plt.show()"
   ]
  },
  {
   "cell_type": "code",
   "execution_count": null,
   "id": "e9570f49-65ed-4ddf-a5ad-e73b28530cd3",
   "metadata": {},
   "outputs": [],
   "source": [
    "# Plot the frequency spectrum against amplitude in decibels\n",
    "plt.figure(figsize=(10, 6))\n",
    "plt.plot(db_stft, color = 'blue')\n",
    "plt.title('Frequency Spectrum (STFT) in Decibels')\n",
    "plt.xlabel('Frequency (Hz)')\n",
    "plt.ylabel('Amplitude (dB)')\n",
    "plt.grid(True)\n",
    "plt.show()"
   ]
  },
  {
   "cell_type": "code",
   "execution_count": null,
   "id": "69f455aa-fd4c-4ec5-8296-e8ec132a6626",
   "metadata": {},
   "outputs": [],
   "source": [
    "# Use fast-fourier transform from numpy\n",
    "raw_audio_arr = np.array(raw_audio, dtype = float)\n",
    "audio_fft = np.fft.fft(raw_audio_arr)\n",
    "audio_fft"
   ]
  },
  {
   "cell_type": "code",
   "execution_count": null,
   "id": "a2579573-f7cd-4655-88c3-46a088821355",
   "metadata": {},
   "outputs": [],
   "source": [
    "# Obtain magnitude of audio file using function from librosa\n",
    "magnitude_fft, _ = lb.magphase(audio_fft)\n",
    "magnitude_fft"
   ]
  },
  {
   "cell_type": "code",
   "execution_count": null,
   "id": "629d6782-b79b-4ba5-be9a-970199aff6d8",
   "metadata": {},
   "outputs": [],
   "source": [
    "# Convert magnitude into decibles\n",
    "db_fft = lb.amplitude_to_db(magnitude_fft)\n",
    "db_fft"
   ]
  },
  {
   "cell_type": "code",
   "execution_count": null,
   "id": "8ed3d470-7022-406e-b568-df8a3e2a0c41",
   "metadata": {},
   "outputs": [],
   "source": [
    "# Visualize the magnitude of the frequencies \n",
    "plt.figure(figsize=(10, 6))\n",
    "plt.imshow(np.abs(db_fft[np.newaxis, :]), aspect='auto', origin='lower', cmap='viridis')\n",
    "plt.colorbar(format='%+2.0f dB')\n",
    "plt.title('Magnitude Spectrum of FFT')\n",
    "plt.xlabel('Time')\n",
    "plt.ylabel('Frequency')\n",
    "plt.tight_layout()\n",
    "plt.show()"
   ]
  },
  {
   "cell_type": "code",
   "execution_count": null,
   "id": "295d915e-59b1-4336-927e-e2cf62c1f645",
   "metadata": {},
   "outputs": [],
   "source": [
    "# Plotting the frequency spectrum against amplitude in decibels\n",
    "plt.figure(figsize=(10, 6))\n",
    "plt.plot(db_fft)\n",
    "plt.title('Frequency Spectrum (in Decibels)')\n",
    "plt.xlabel('Frequency (Hz)')\n",
    "plt.ylabel('Amplitude (dB)')\n",
    "plt.grid(True)\n",
    "plt.show()"
   ]
  }
 ],
 "metadata": {
  "kernelspec": {
   "display_name": "Python 3 (ipykernel)",
   "language": "python",
   "name": "python3"
  },
  "language_info": {
   "codemirror_mode": {
    "name": "ipython",
    "version": 3
   },
   "file_extension": ".py",
   "mimetype": "text/x-python",
   "name": "python",
   "nbconvert_exporter": "python",
   "pygments_lexer": "ipython3",
   "version": "3.10.12"
  }
 },
 "nbformat": 4,
 "nbformat_minor": 5
}
